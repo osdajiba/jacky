{
 "cells": [
  {
   "cell_type": "code",
   "execution_count": 2,
   "metadata": {},
   "outputs": [],
   "source": [
    "# 安装依赖库\n",
    "\n",
    "from sympy import symbols, diff, solve, Matrix, log, E, solve_univariate_inequality, latex, LambertW, exp, simplify\n"
   ]
  },
  {
   "cell_type": "code",
   "execution_count": 3,
   "metadata": {},
   "outputs": [],
   "source": [
    "# 模型求解函数\n",
    "\n",
    "def calculate_saddle_point(U_m, U_r):\n",
    "    # 计算 Hessian 矩阵\n",
    "    dU_p = diff(U_r, p)\n",
    "    dU_tau = diff(U_r, tau)\n",
    "    print(latex(dU_p))\n",
    "    print('\\n----------------------------------------------------------------------------------------------------------------------------------------\\n')\n",
    "\n",
    "    d2U_p_p = diff(dU_p, p)\n",
    "    d2U_p_tau = diff(dU_p, tau)\n",
    "    d2U_tau_p = diff(dU_tau, p)\n",
    "    d2U_tau_tau = diff(dU_tau, tau)\n",
    "\n",
    "    Hessian = Matrix([[d2U_p_p, d2U_p_tau], [d2U_tau_p, d2U_tau_tau]])\n",
    "    print(f'Hessian matrix: {latex(Hessian)}\\n')\n",
    "\n",
    "    # 检查 Hessian 矩阵行列式大于零\n",
    "    minor1 = d2U_p_p\n",
    "    minor2 = Hessian.det()\n",
    "    # 定义不等式条件\n",
    "    condition1 = str(minor1) +'< 0'\n",
    "    condition2 = minor2 > 0\n",
    "    # 将不等式转换成LaTeX格式的代码\n",
    "    latex_code1 = latex(condition1)\n",
    "    latex_code2 = latex(simplify(condition2))\n",
    "    print(f'Hessian_1 = {latex_code1}\\nHessian.det = {latex_code2}')\n",
    "    print('\\n----------------------------------------------------------------------------------------------------------------------------------------\\n')\n",
    "    # 尝试解出参数方程\n",
    "    try:\n",
    "        sol = solve([dU_p, dU_tau], [p, tau])\n",
    "        print('Parameter equations for saddle point:')\n",
    "        print(sol)\n",
    "        return sol\n",
    "    except Exception as e:\n",
    "        print('Unable to determine parameter equations:', e)\n",
    "        return False\n",
    "\n",
    "\n",
    "def to_LaTex(expr):\n",
    "    print('\\n----------------------------------------------------------------------------------------------------------------------------------------\\n')\n",
    "    # Convert expressions to LaTeX\n",
    "    result = latex(expr)\n",
    "    # Print the LaTeX expressions\n",
    "    print(\"Expression in LaTeX:\")\n",
    "    print(result)"
   ]
  },
  {
   "cell_type": "code",
   "execution_count": 6,
   "metadata": {},
   "outputs": [
    {
     "name": "stdout",
     "output_type": "stream",
     "text": [
      "\\left[ \\frac{\\beta q \\left(\\lambda \\mu + \\omega + \\tau\\right) - \\beta \\left(\\lambda \\mu + \\tau\\right) + q \\left(\\alpha \\log{\\left(\\lambda \\mu + \\tau \\right)} + \\theta_{0}\\right)}{2 \\beta q}\\right]\n"
     ]
    }
   ],
   "source": [
    "    # 定义符号变量\n",
    "    p, q, omega, beta, alpha, lamda, mu, tau, theta_0 = symbols('p q omega beta alpha lamda mu tau theta_0')\n",
    "    # 定义方程\n",
    "    equation = -beta * (q * (-omega + p) + (1 - q) * (lamda * mu + tau)) + q * (alpha * log(lamda * mu + tau) - beta * p + theta_0)\n",
    "    # 解方程\n",
    "    solution = solve(equation, p)\n",
    "    print(latex(solution))"
   ]
  },
  {
   "cell_type": "markdown",
   "metadata": {},
   "source": [
    "# 成本分担策略 + 代销渠道 双重目的效益模型"
   ]
  },
  {
   "cell_type": "code",
   "execution_count": null,
   "metadata": {},
   "outputs": [
    {
     "name": "stdout",
     "output_type": "stream",
     "text": [
      "- \\beta \\left(q \\left(- \\omega + p\\right) + \\left(1 - q\\right) \\left(\\lambda \\mu + \\tau\\right)\\right) + q \\left(\\alpha \\log{\\left(\\lambda \\mu + \\tau \\right)} - \\beta p + \\theta_{0}\\right)\n",
      "\n",
      "----------------------------------------------------------------------------------------------------------------------------------------\n",
      "\n",
      "Hessian matrix: \\left[\\begin{matrix}- 2 \\beta q & \\frac{\\alpha q}{\\lambda \\mu + \\tau} - \\beta \\left(1 - q\\right)\\\\\\frac{\\alpha q}{\\lambda \\mu + \\tau} - \\beta \\left(1 - q\\right) & \\frac{2 \\alpha \\left(1 - q\\right)}{\\lambda \\mu + \\tau} - \\frac{\\alpha \\left(q \\left(- \\omega + p\\right) + \\left(1 - q\\right) \\left(\\lambda \\mu + \\tau\\right)\\right)}{\\left(\\lambda \\mu + \\tau\\right)^{2}}\\end{matrix}\\right]\n",
      "\n",
      "Hessian_1 = \\mathtt{\\text{-2*beta*q< 0}}\n",
      "Hessian.det = \\frac{- \\alpha^{2} q^{2} - 2 \\alpha \\beta \\omega q^{2} + 2 \\alpha \\beta p q^{2} - \\beta^{2} \\lambda^{2} \\mu^{2} q^{2} + 2 \\beta^{2} \\lambda^{2} \\mu^{2} q - \\beta^{2} \\lambda^{2} \\mu^{2} - 2 \\beta^{2} \\lambda \\mu q^{2} \\tau + 4 \\beta^{2} \\lambda \\mu q \\tau - 2 \\beta^{2} \\lambda \\mu \\tau - \\beta^{2} q^{2} \\tau^{2} + 2 \\beta^{2} q \\tau^{2} - \\beta^{2} \\tau^{2}}{\\lambda^{2} \\mu^{2} + 2 \\lambda \\mu \\tau + \\tau^{2}} > 0\n",
      "\n",
      "----------------------------------------------------------------------------------------------------------------------------------------\n",
      "\n",
      "Parameter equations for saddle point:\n",
      "[((alpha*log(-LambertW(beta*(1 - q)*exp((beta*omega - theta_0)/alpha)/(alpha*q))/(q - 1)) - alpha*LambertW(beta*(1 - q)*exp((beta*omega - theta_0)/alpha)/(alpha*q)) + beta*omega + theta_0 + log(alpha**alpha*q**alpha/beta**alpha))/(2*beta), (-alpha*q*LambertW(-beta*(q - 1)*exp((beta*omega - theta_0)/alpha)/(alpha*q)) - beta*lambda*mu*(q - 1))/(beta*(q - 1))), ((alpha*log(1/(q - 1)) + alpha + beta*omega + theta_0 + log(alpha**alpha*q**alpha/beta**alpha))/(2*beta), (alpha*q - beta*lambda*mu*q + beta*lambda*mu)/(beta*(q - 1)))]\n",
      "\n",
      "----------------------------------------------------------------------------------------------------------------------------------------\n",
      "\n",
      "Expression in LaTeX:\n",
      "\\left( \\frac{\\alpha \\log{\\left(- \\frac{W\\left(\\frac{\\beta \\left(1 - q\\right) e^{\\frac{\\beta \\omega - \\theta_{0}}{\\alpha}}}{\\alpha q}\\right)}{q - 1} \\right)} - \\alpha W\\left(\\frac{\\beta \\left(1 - q\\right) e^{\\frac{\\beta \\omega - \\theta_{0}}{\\alpha}}}{\\alpha q}\\right) + \\beta \\omega + \\theta_{0} + \\log{\\left(\\alpha^{\\alpha} \\beta^{- \\alpha} q^{\\alpha} \\right)}}{2 \\beta}, \\  \\frac{- \\alpha q W\\left(- \\frac{\\beta \\left(q - 1\\right) e^{\\frac{\\beta \\omega - \\theta_{0}}{\\alpha}}}{\\alpha q}\\right) - \\beta \\lambda \\mu \\left(q - 1\\right)}{\\beta \\left(q - 1\\right)}\\right)\n",
      "\n",
      "----------------------------------------------------------------------------------------------------------------------------------------\n",
      "\n",
      "Expression in LaTeX:\n",
      "\\left( \\frac{\\alpha \\log{\\left(\\frac{1}{q - 1} \\right)} + \\alpha + \\beta \\omega + \\theta_{0} + \\log{\\left(\\alpha^{\\alpha} \\beta^{- \\alpha} q^{\\alpha} \\right)}}{2 \\beta}, \\  \\frac{\\alpha q - \\beta \\lambda \\mu q + \\beta \\lambda \\mu}{\\beta \\left(q - 1\\right)}\\right)\n"
     ]
    }
   ],
   "source": [
    "# 成本分担策略 + 代销渠道\n",
    "\n",
    "# 定义符号变量\n",
    "omega, y0, c, tau, lambda_, beta, mu, pe, e, theta_0, a, F, q, p, D = symbols('omega y0 c tau lambda beta mu pe e theta_0 alpha F q p D', positive=True)\n",
    "# 定义成本分担策略+代销渠道效用函数\n",
    "U_m = (omega - y0 - c * (tau + lambda_ * mu)**2 - pe * (e - tau - lambda_ * mu)) * (theta_0 + a * log(tau + lambda_ * mu) - beta * p) + pe * F + mu\n",
    "U_r = (q * (p - omega) + (1 - q) * (tau + lambda_ * mu)) * (theta_0 + a * log(tau + lambda_ * mu) - beta * p) - q * (D + mu)\n",
    "\n",
    "# run\n",
    "sol = calculate_saddle_point(U_m, U_r)\n",
    "for expr in sol:\n",
    "    to_LaTex(expr)\n"
   ]
  },
  {
   "cell_type": "markdown",
   "metadata": {},
   "source": [
    "# 成本分担策略 + 自营渠道 双重目的效益模型"
   ]
  },
  {
   "cell_type": "code",
   "execution_count": null,
   "metadata": {},
   "outputs": [
    {
     "name": "stdout",
     "output_type": "stream",
     "text": [
      "- \\beta \\left(p q t + \\left(1 - q\\right) \\left(\\lambda_{} \\mu + \\tau\\right)\\right) + q t \\left(\\alpha \\log{\\left(\\lambda_{} \\mu + \\tau \\right)} - \\beta p + \\theta_{0}\\right)\n",
      "\n",
      "----------------------------------------------------------------------------------------------------------------------------------------\n",
      "\n",
      "Hessian matrix: \\left[\\begin{matrix}- 2 \\beta q t & \\frac{\\alpha q t}{\\lambda_{} \\mu + \\tau} - \\beta \\left(1 - q\\right)\\\\\\frac{\\alpha q t}{\\lambda_{} \\mu + \\tau} - \\beta \\left(1 - q\\right) & \\frac{2 \\alpha \\left(1 - q\\right)}{\\lambda_{} \\mu + \\tau} - \\frac{\\alpha \\left(p q t + \\left(1 - q\\right) \\left(\\lambda_{} \\mu + \\tau\\right)\\right)}{\\left(\\lambda_{} \\mu + \\tau\\right)^{2}}\\end{matrix}\\right]\n",
      "\n",
      "Hessian_1 = \\mathtt{\\text{-2*beta*q*t< 0}}\n",
      "Hessian.det = \\frac{- \\alpha^{2} q^{2} t^{2} + 2 \\alpha \\beta p q^{2} t^{2} - \\beta^{2} \\lambda_{}^{2} \\mu^{2} q^{2} + 2 \\beta^{2} \\lambda_{}^{2} \\mu^{2} q - \\beta^{2} \\lambda_{}^{2} \\mu^{2} - 2 \\beta^{2} \\lambda_{} \\mu q^{2} \\tau + 4 \\beta^{2} \\lambda_{} \\mu q \\tau - 2 \\beta^{2} \\lambda_{} \\mu \\tau - \\beta^{2} q^{2} \\tau^{2} + 2 \\beta^{2} q \\tau^{2} - \\beta^{2} \\tau^{2}}{\\lambda_{}^{2} \\mu^{2} + 2 \\lambda_{} \\mu \\tau + \\tau^{2}} > 0\n",
      "\n",
      "----------------------------------------------------------------------------------------------------------------------------------------\n",
      "\n",
      "Parameter equations for saddle point:\n",
      "[((alpha*log(-LambertW(beta*(1 - q)*exp(-theta_0/alpha)/(alpha*q*t))/(q - 1)) - alpha*LambertW(beta*(1 - q)*exp(-theta_0/alpha)/(alpha*q*t)) + theta_0 + log(alpha**alpha*q**alpha*t**alpha/beta**alpha))/(2*beta), (-alpha*q*t*LambertW(beta*(1 - q)*exp(-theta_0/alpha)/(alpha*q*t)) - beta*lambda_*mu*(q - 1))/(beta*(q - 1))), ((alpha*log(1/(q - 1)) + alpha + theta_0 + log(alpha**alpha*q**alpha*t**alpha/beta**alpha))/(2*beta), (alpha*q*t - beta*lambda_*mu*q + beta*lambda_*mu)/(beta*(q - 1)))]\n",
      "\n",
      "----------------------------------------------------------------------------------------------------------------------------------------\n",
      "\n",
      "Expression in LaTeX:\n",
      "\\left( \\frac{\\alpha \\log{\\left(- \\frac{W\\left(\\frac{\\beta \\left(1 - q\\right) e^{- \\frac{\\theta_{0}}{\\alpha}}}{\\alpha q t}\\right)}{q - 1} \\right)} - \\alpha W\\left(\\frac{\\beta \\left(1 - q\\right) e^{- \\frac{\\theta_{0}}{\\alpha}}}{\\alpha q t}\\right) + \\theta_{0} + \\log{\\left(\\alpha^{\\alpha} \\beta^{- \\alpha} q^{\\alpha} t^{\\alpha} \\right)}}{2 \\beta}, \\  \\frac{- \\alpha q t W\\left(\\frac{\\beta \\left(1 - q\\right) e^{- \\frac{\\theta_{0}}{\\alpha}}}{\\alpha q t}\\right) - \\beta \\lambda_{} \\mu \\left(q - 1\\right)}{\\beta \\left(q - 1\\right)}\\right)\n",
      "\n",
      "----------------------------------------------------------------------------------------------------------------------------------------\n",
      "\n",
      "Expression in LaTeX:\n",
      "\\left( \\frac{\\alpha \\log{\\left(\\frac{1}{q - 1} \\right)} + \\alpha + \\theta_{0} + \\log{\\left(\\alpha^{\\alpha} \\beta^{- \\alpha} q^{\\alpha} t^{\\alpha} \\right)}}{2 \\beta}, \\  \\frac{\\alpha q t - \\beta \\lambda_{} \\mu q + \\beta \\lambda_{} \\mu}{\\beta \\left(q - 1\\right)}\\right)\n"
     ]
    }
   ],
   "source": [
    "# 成本分担策略 + 自营渠道\n",
    "\n",
    "# 定义符号变量\n",
    "t, y0, c, tau, lambda_, beta, mu, pe, e, theta_0, alpha, F, q, p = symbols('t y0 c tau lambda_ beta mu pe e theta_0 alpha F q p ', positive=True)\n",
    "# 定义成本分担策略+代销渠道效用函数\n",
    "U_m = ((1-t)*p - y0 - c * (tau + lambda_ * mu)**2 - pe * (e - tau - lambda_ * mu)) * (theta_0 + a * log(tau + lambda_ * mu) - beta * p) + pe * F + mu\n",
    "U_r = (q*t*p + (1 - q) * (tau + lambda_ * mu)) * (theta_0 + a * log(tau + lambda_ * mu) - beta * p) - q * mu\n",
    "\n",
    "# run\n",
    "sol = calculate_saddle_point(U_m, U_r)\n",
    "for expr in sol:\n",
    "    to_LaTex(expr)\n"
   ]
  },
  {
   "cell_type": "markdown",
   "metadata": {},
   "source": [
    "# 引流推广策略 + 代销渠道 双重目的效益模型"
   ]
  },
  {
   "cell_type": "code",
   "execution_count": null,
   "metadata": {},
   "outputs": [
    {
     "name": "stdout",
     "output_type": "stream",
     "text": [
      "- \\beta \\left(q \\left(- \\omega + p\\right) + \\tau \\left(1 - q\\right)\\right) + q \\left(\\alpha \\log{\\left(\\tau \\right)} + b \\log{\\left(\\mu \\right)} - \\beta p + \\theta_{0}\\right)\n",
      "\n",
      "----------------------------------------------------------------------------------------------------------------------------------------\n",
      "\n",
      "Hessian matrix: \\left[\\begin{matrix}- 2 \\beta q & \\frac{\\alpha q}{\\tau} - \\beta \\left(1 - q\\right)\\\\\\frac{\\alpha q}{\\tau} - \\beta \\left(1 - q\\right) & \\frac{2 \\alpha \\left(1 - q\\right)}{\\tau} - \\frac{\\alpha \\left(q \\left(- \\omega + p\\right) + \\tau \\left(1 - q\\right)\\right)}{\\tau^{2}}\\end{matrix}\\right]\n",
      "\n",
      "Hessian_1 = \\mathtt{\\text{-2*beta*q< 0}}\n",
      "Hessian.det = \\frac{\\alpha^{2} q^{2}}{\\tau^{2}} + \\frac{2 \\alpha \\beta \\omega q^{2}}{\\tau^{2}} - \\frac{2 \\alpha \\beta p q^{2}}{\\tau^{2}} + \\beta^{2} q^{2} - 2 \\beta^{2} q + \\beta^{2} < 0\n",
      "\n",
      "----------------------------------------------------------------------------------------------------------------------------------------\n",
      "\n",
      "Parameter equations for saddle point:\n",
      "[((alpha + beta*omega + theta_0 + log((1/(beta*(q - 1)))**alpha) + log(alpha**alpha*mu**b*q**alpha))/(2*beta), alpha*q/(beta*(q - 1))), ((-alpha*LambertW(beta*(1 - q)*exp((beta*omega - theta_0)/alpha)/(alpha*mu**(b/alpha)*q)) + beta*omega + theta_0 + log(alpha**alpha*mu**b*q**alpha) + log((-LambertW(beta*(1 - q)*exp((beta*omega - theta_0)/alpha)/(alpha*mu**(b/alpha)*q))/(beta*(q - 1)))**alpha))/(2*beta), -alpha*q*LambertW(-beta*(q - 1)*exp(-(b*log(mu) - beta*omega + theta_0)/alpha)/(alpha*q))/(beta*(q - 1)))]\n",
      "\n",
      "----------------------------------------------------------------------------------------------------------------------------------------\n",
      "\n",
      "Expression in LaTeX:\n",
      "\\left( \\frac{\\alpha + \\beta \\omega + \\theta_{0} + \\log{\\left(\\left(\\frac{1}{\\beta \\left(q - 1\\right)}\\right)^{\\alpha} \\right)} + \\log{\\left(\\alpha^{\\alpha} \\mu^{b} q^{\\alpha} \\right)}}{2 \\beta}, \\  \\frac{\\alpha q}{\\beta \\left(q - 1\\right)}\\right)\n",
      "\n",
      "----------------------------------------------------------------------------------------------------------------------------------------\n",
      "\n",
      "Expression in LaTeX:\n",
      "\\left( \\frac{- \\alpha W\\left(\\frac{\\beta \\mu^{- \\frac{b}{\\alpha}} \\left(1 - q\\right) e^{\\frac{\\beta \\omega - \\theta_{0}}{\\alpha}}}{\\alpha q}\\right) + \\beta \\omega + \\theta_{0} + \\log{\\left(\\alpha^{\\alpha} \\mu^{b} q^{\\alpha} \\right)} + \\log{\\left(\\left(- \\frac{W\\left(\\frac{\\beta \\mu^{- \\frac{b}{\\alpha}} \\left(1 - q\\right) e^{\\frac{\\beta \\omega - \\theta_{0}}{\\alpha}}}{\\alpha q}\\right)}{\\beta \\left(q - 1\\right)}\\right)^{\\alpha} \\right)}}{2 \\beta}, \\  - \\frac{\\alpha q W\\left(- \\frac{\\beta \\left(q - 1\\right) e^{- \\frac{b \\log{\\left(\\mu \\right)} - \\beta \\omega + \\theta_{0}}{\\alpha}}}{\\alpha q}\\right)}{\\beta \\left(q - 1\\right)}\\right)\n"
     ]
    }
   ],
   "source": [
    "# 引流推广策略 + 代销渠道\n",
    "\n",
    "# 定义符号变量\n",
    "omega, y0, c, tau, lambda_, beta, mu, pe, e, theta_0, alpha, b, F, q, p, D= symbols('omega y0 c tau lambda beta mu pe e theta_0 alpha b F q p D', positive=True)\n",
    "# 定义成本分担策略+代销渠道效用函数\n",
    "U_m = (omega - y0 - c * tau**2 - pe * (e - tau)) * (theta_0 + a * log(tau) + b * log(mu) - beta * p) + pe * F\n",
    "U_r = (q * (p - omega) + (1 - q) * tau) * (theta_0 + a * log(tau) + b * log(mu) - beta * p) - q * (D + mu)\n",
    "\n",
    "# run\n",
    "sol = calculate_saddle_point(U_m, U_r)\n",
    "for expr in sol:\n",
    "    to_LaTex(expr)\n"
   ]
  },
  {
   "cell_type": "markdown",
   "metadata": {},
   "source": [
    "# 引流推广策略 + 自营渠道 双重目的效益模型"
   ]
  },
  {
   "cell_type": "code",
   "execution_count": null,
   "metadata": {},
   "outputs": [
    {
     "name": "stdout",
     "output_type": "stream",
     "text": [
      "- \\beta \\left(p q t + \\tau \\left(1 - q\\right)\\right) + q t \\left(\\alpha \\log{\\left(\\tau \\right)} + b \\log{\\left(\\mu \\right)} - \\beta p + \\theta_{0}\\right)\n",
      "\n",
      "----------------------------------------------------------------------------------------------------------------------------------------\n",
      "\n",
      "Hessian matrix: \\left[\\begin{matrix}- 2 \\beta q t & \\frac{\\alpha q t}{\\tau} - \\beta \\left(1 - q\\right)\\\\\\frac{\\alpha q t}{\\tau} - \\beta \\left(1 - q\\right) & \\frac{2 \\alpha \\left(1 - q\\right)}{\\tau} - \\frac{\\alpha \\left(p q t + \\tau \\left(1 - q\\right)\\right)}{\\tau^{2}}\\end{matrix}\\right]\n",
      "\n",
      "Hessian_1 = \\mathtt{\\text{-2*beta*q*t< 0}}\n",
      "Hessian.det = \\frac{\\alpha^{2} q^{2} t^{2}}{\\tau^{2}} - \\frac{2 \\alpha \\beta p q^{2} t^{2}}{\\tau^{2}} + \\beta^{2} q^{2} - 2 \\beta^{2} q + \\beta^{2} < 0\n",
      "\n",
      "----------------------------------------------------------------------------------------------------------------------------------------\n",
      "\n",
      "Parameter equations for saddle point:\n",
      "[((-alpha*LambertW(beta*(1 - q)*exp(-theta_0/alpha)/(alpha*mu**(b/alpha)*q*t)) + theta_0 + log((-LambertW(beta*(1 - q)*exp(-theta_0/alpha)/(alpha*mu**(b/alpha)*q*t))/(beta*(q - 1)))**alpha) + log(alpha**alpha*mu**b*q**alpha*t**alpha))/(2*beta), -alpha*q*t*LambertW(-beta*(q - 1)*exp(-(b*log(mu) + theta_0)/alpha)/(alpha*q*t))/(beta*(q - 1))), ((alpha*q - alpha + (q - 1)*(theta_0 + log(mu**b*(alpha*q*t/(beta*(q - 1)))**alpha)))/(2*beta*(q - 1)), alpha*q*t/(beta*(q - 1)))]\n",
      "\n",
      "----------------------------------------------------------------------------------------------------------------------------------------\n",
      "\n",
      "Expression in LaTeX:\n",
      "\\left( \\frac{- \\alpha W\\left(\\frac{\\beta \\mu^{- \\frac{b}{\\alpha}} \\left(1 - q\\right) e^{- \\frac{\\theta_{0}}{\\alpha}}}{\\alpha q t}\\right) + \\theta_{0} + \\log{\\left(\\left(- \\frac{W\\left(\\frac{\\beta \\mu^{- \\frac{b}{\\alpha}} \\left(1 - q\\right) e^{- \\frac{\\theta_{0}}{\\alpha}}}{\\alpha q t}\\right)}{\\beta \\left(q - 1\\right)}\\right)^{\\alpha} \\right)} + \\log{\\left(\\alpha^{\\alpha} \\mu^{b} q^{\\alpha} t^{\\alpha} \\right)}}{2 \\beta}, \\  - \\frac{\\alpha q t W\\left(- \\frac{\\beta \\left(q - 1\\right) e^{- \\frac{b \\log{\\left(\\mu \\right)} + \\theta_{0}}{\\alpha}}}{\\alpha q t}\\right)}{\\beta \\left(q - 1\\right)}\\right)\n",
      "\n",
      "----------------------------------------------------------------------------------------------------------------------------------------\n",
      "\n",
      "Expression in LaTeX:\n",
      "\\left( \\frac{\\alpha q - \\alpha + \\left(q - 1\\right) \\left(\\theta_{0} + \\log{\\left(\\mu^{b} \\left(\\frac{\\alpha q t}{\\beta \\left(q - 1\\right)}\\right)^{\\alpha} \\right)}\\right)}{2 \\beta \\left(q - 1\\right)}, \\  \\frac{\\alpha q t}{\\beta \\left(q - 1\\right)}\\right)\n"
     ]
    }
   ],
   "source": [
    "# 引流推广策略 + 自营渠道 \n",
    "\n",
    "# 定义符号变量\n",
    "y0, t, c, tau, lambda_, beta, mu, pe, e, theta_0, alpha, b, F, q, p = symbols('y0 t c tau lambda_ beta mu pe e theta_0 alpha b F q p ', positive=True)\n",
    "# 定义成本分担策略+代销渠道效用函数\n",
    "U_m = ((1-t)*p - y0 - c * tau**2 - pe * (e - tau)) * (theta_0 + a * log(tau) + b * log(mu) - beta * p) + pe * F\n",
    "U_r = (q*t*p + (1 - q) * tau) * (theta_0 + a * log(tau) + b * log(mu) - beta * p) - q * mu\n",
    "\n",
    "# run\n",
    "sol = calculate_saddle_point(U_m, U_r)\n",
    "for expr in sol:\n",
    "    to_LaTex(expr)\n"
   ]
  }
 ],
 "metadata": {
  "kernelspec": {
   "display_name": "Python 3",
   "language": "python",
   "name": "python3"
  },
  "language_info": {
   "codemirror_mode": {
    "name": "ipython",
    "version": 3
   },
   "file_extension": ".py",
   "mimetype": "text/x-python",
   "name": "python",
   "nbconvert_exporter": "python",
   "pygments_lexer": "ipython3",
   "version": "3.10.9"
  },
  "orig_nbformat": 4
 },
 "nbformat": 4,
 "nbformat_minor": 2
}
